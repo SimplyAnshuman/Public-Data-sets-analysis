{
 "cells": [
  {
   "cell_type": "markdown",
   "metadata": {
    "collapsed": false
   },
   "source": [
    "# Spanish Translation A/B Test"
   ]
  },
  {
   "cell_type": "markdown",
   "metadata": {},
   "source": [
    "## Goal\n",
    "\n",
    "A/B tests play a huge role in website optimization. Analyzing A/B tests data is a very important\n",
    "data scientist responsibility. Especially, data scientists have to make sure that results are\n",
    "reliable, trustworthy, and conclusions can be drawn.\n",
    "\n",
    "Furthermore, companies often run tens, if not hundreds, of A/B tests at the same time. Manually\n",
    "analyzing all of them would require lot of time and people. Therefore, it is common practice to\n",
    "look at the typical A/B test analysis steps and try to automate as much as possible. This frees\n",
    "up time for the data scientists to work on more high level topics."
   ]
  },
  {
   "cell_type": "markdown",
   "metadata": {},
   "source": [
    "## Challenge Description"
   ]
  },
  {
   "cell_type": "markdown",
   "metadata": {},
   "source": [
    "This company is a worldwide e-commerce site with localized versions of the site.\n",
    "\n",
    "\n",
    "It is noticed that Spain-based users have a much higher conversion rate than any other Spanish-speaking country. \n",
    "\n",
    "Spain and LatAm country manager suggested that one reason could be translation. All Spanishspeaking countries had the same translation of the site which was written by a Spaniard. They agreed to try a test where each country would have its one translation written by a local. That is, Argentinian users would see a translation written by an Argentinian, Mexican users by a Mexican and so on. Obviously, nothing would change for users from Spain.\n",
    "\n",
    "After they run the test however, they are really surprised cause the test is negative. I.e., it appears that the non-localized translation was doing better!\n",
    "\n",
    "1. Confirm that the test is actually negative. That is, it appears that the old version of the site with just one translation across Spain and LatAm performs better\n",
    "\n",
    "2. Explain why that might be happening. Are the localized translations really worse?\n",
    "\n",
    "3. If identified what was wrong, design an algorithm that would return FALSE if the same problem is happening in the future and TRUE if everything is good and the results can be trusted."
   ]
  },
  {
   "cell_type": "markdown",
   "metadata": {},
   "source": [
    "#libraries needed\n",
    "require(dplyr)\n",
    "require(rpart)\n",
    "require(ggplot2)"
   ]
  },
  {
   "cell_type": "code",
   "execution_count": 2,
   "metadata": {
    "collapsed": false
   },
   "outputs": [
    {
     "name": "stderr",
     "output_type": "stream",
     "text": [
      "Updating HTML index of packages in '.Library'\n",
      "Making 'packages.html' ... done\n"
     ]
    }
   ],
   "source": [
    "install.packages('ggplot2', repos='http://cran.us.r-project.org')"
   ]
  },
  {
   "cell_type": "code",
   "execution_count": 13,
   "metadata": {
    "collapsed": false
   },
   "outputs": [],
   "source": [
    "#read data\n",
    "user = read.csv(\"user_table.csv\")\n",
    "test = read.csv(\"test_table.csv\")"
   ]
  },
  {
   "cell_type": "code",
   "execution_count": 14,
   "metadata": {
    "collapsed": false
   },
   "outputs": [
    {
     "data": {
      "text/html": [
       "TRUE"
      ],
      "text/latex": [
       "TRUE"
      ],
      "text/markdown": [
       "TRUE"
      ],
      "text/plain": [
       "[1] TRUE"
      ]
     },
     "metadata": {},
     "output_type": "display_data"
    }
   ],
   "source": [
    "#let's create one data set\n",
    "length(unique(test$user_id)) == length(test$user_id) # are there dupes?"
   ]
  },
  {
   "cell_type": "code",
   "execution_count": 15,
   "metadata": {
    "collapsed": false
   },
   "outputs": [
    {
     "data": {
      "text/html": [
       "TRUE"
      ],
      "text/latex": [
       "TRUE"
      ],
      "text/markdown": [
       "TRUE"
      ],
      "text/plain": [
       "[1] TRUE"
      ]
     },
     "metadata": {},
     "output_type": "display_data"
    }
   ],
   "source": [
    "length(unique(user$user_id)) == length(user$user_id) # are there dupes?"
   ]
  },
  {
   "cell_type": "code",
   "execution_count": 16,
   "metadata": {
    "collapsed": false
   },
   "outputs": [
    {
     "data": {
      "text/html": [
       "-454"
      ],
      "text/latex": [
       "-454"
      ],
      "text/markdown": [
       "-454"
      ],
      "text/plain": [
       "[1] -454"
      ]
     },
     "metadata": {},
     "output_type": "display_data"
    }
   ],
   "source": [
    "length(user$user_id) - length(test$user_id) # everyone in one table also in the other one?"
   ]
  },
  {
   "cell_type": "code",
   "execution_count": 17,
   "metadata": {
    "collapsed": false
   },
   "outputs": [
    {
     "data": {
      "text/plain": [
       "    user_id             date               source          device      \n",
       " Min.   :      1   Min.   :2015-11-30   Ads   :181877   Mobile:201756  \n",
       " 1st Qu.: 249816   1st Qu.:2015-12-01   Direct: 90834   Web   :251565  \n",
       " Median : 500019   Median :2015-12-03   SEO   :180610                  \n",
       " Mean   : 499938   Mean   :2015-12-02                                  \n",
       " 3rd Qu.: 749522   3rd Qu.:2015-12-04                                  \n",
       " Max.   :1000000   Max.   :2015-12-04                                  \n",
       "                                                                       \n",
       " browser_language   ads_channel            browser         conversion     \n",
       " EN   : 63137     Bing    : 13689   Android_App:155135   Min.   :0.00000  \n",
       " ES   :377547     Facebook: 68425   Chrome     :101929   1st Qu.:0.00000  \n",
       " Other: 12637     Google  : 68180   FireFox    : 40766   Median :0.00000  \n",
       "                  Other   :  4148   IE         : 61715   Mean   :0.04958  \n",
       "                  Yahoo   : 27435   Iphone_App : 46621   3rd Qu.:0.00000  \n",
       "                  NA's    :271444   Opera      :  6090   Max.   :1.00000  \n",
       "                                    Safari     : 41065                    \n",
       "      test          sex              age             country      \n",
       " Min.   :0.0000   F   :188382   Min.   :18.00   Mexico   :128484  \n",
       " 1st Qu.:0.0000   M   :264485   1st Qu.:22.00   Colombia : 54060  \n",
       " Median :0.0000   NA's:   454   Median :26.00   Spain    : 51782  \n",
       " Mean   :0.4764                 Mean   :27.13   Argentina: 46733  \n",
       " 3rd Qu.:1.0000                 3rd Qu.:31.00   Peru     : 33666  \n",
       " Max.   :1.0000                 Max.   :70.00   (Other)  :138142  \n",
       "                                NA's   :454     NA's     :   454  "
      ]
     },
     "metadata": {},
     "output_type": "display_data"
    }
   ],
   "source": [
    "data = merge(test,user, by = \"user_id\", all.x = TRUE) # this way we don't lose data\n",
    "data$date = as.Date(data$date)\n",
    "summary(data)"
   ]
  },
  {
   "cell_type": "markdown",
   "metadata": {},
   "source": [
    "First question is: check test results. But even before that, let’s make sure it is true Spain converts much\n",
    "better than the rest of LatAm countries."
   ]
  },
  {
   "cell_type": "code",
   "execution_count": 22,
   "metadata": {
    "collapsed": false
   },
   "outputs": [
    {
     "data": {
      "text/html": [
       "<table>\n",
       "<thead><tr><th></th><th scope=col>country</th><th scope=col>conversion</th></tr></thead>\n",
       "<tbody>\n",
       "\t<tr><th scope=row>1</th><td>Spain             </td><td>0.0797188212120042</td></tr>\n",
       "\t<tr><th scope=row>2</th><td>NA                </td><td>0.0775510204081633</td></tr>\n",
       "\t<tr><th scope=row>3</th><td>El Salvador      </td><td>0.053554040895813</td></tr>\n",
       "\t<tr><th scope=row>4</th><td>Nicaragua         </td><td>0.0526469727990641</td></tr>\n",
       "\t<tr><th scope=row>5</th><td>Costa Rica        </td><td>0.0522556390977444</td></tr>\n",
       "\t<tr><th scope=row>6</th><td>Colombia          </td><td>0.0520894861193148</td></tr>\n",
       "</tbody>\n",
       "</table>\n"
      ],
      "text/latex": [
       "\\begin{tabular}{r|ll}\n",
       "  & country & conversion\\\\\n",
       "\\hline\n",
       "\t1 & Spain              & 0.0797188212120042\\\\\n",
       "\t2 & NA                 & 0.0775510204081633\\\\\n",
       "\t3 & El Salvador       & 0.053554040895813\\\\\n",
       "\t4 & Nicaragua          & 0.0526469727990641\\\\\n",
       "\t5 & Costa Rica         & 0.0522556390977444\\\\\n",
       "\t6 & Colombia           & 0.0520894861193148\\\\\n",
       "\\end{tabular}\n"
      ],
      "text/plain": [
       "      country conversion\n",
       "1       Spain 0.07971882\n",
       "2        <NA> 0.07755102\n",
       "3 El Salvador 0.05355404\n",
       "4   Nicaragua 0.05264697\n",
       "5  Costa Rica 0.05225564\n",
       "6    Colombia 0.05208949"
      ]
     },
     "metadata": {},
     "output_type": "display_data"
    }
   ],
   "source": [
    "## we check the old version\n",
    "\n",
    "data_conversion_country = data %>% group_by(country) %>% summarize( conversion = mean(conversion[test == 0]))%>% arrange (desc(conversion))\n",
    "\n",
    "head(data_conversion_country)"
   ]
  },
  {
   "cell_type": "markdown",
   "metadata": {},
   "source": [
    "Yes. Definitely true."
   ]
  },
  {
   "cell_type": "markdown",
   "metadata": {},
   "source": [
    "### In statistics, Welch's t-test, or unequal variances t-test, \n",
    "\n",
    "is a two-sample location test which is used to test the hypothesis that two populations have equal means. Welch's t-test is an adaptation of Student's t-test,[1] that is, it has been derived with the help of Student's t-test and is more reliable when the two samples have unequal variances and unequal sample sizes.[2] These tests are often referred to as \"unpaired\" or \"independent samples\" t-tests, as they are typically applied when the statistical units underlying the two samples being compared are non-overlapping. Given that Welch's t-test has been less popular than Student's t-test[2] and may be less familiar to readers, a more informative name is \"Welch's unequal variances t-test\" or \"unequal variances t-test\" for brevity."
   ]
  },
  {
   "cell_type": "markdown",
   "metadata": {},
   "source": [
    "### a simple t-test here should work. We have collected ~0.5MM data and test/control split is ~50/50.\n"
   ]
  },
  {
   "cell_type": "code",
   "execution_count": 23,
   "metadata": {
    "collapsed": false
   },
   "outputs": [
    {
     "data": {
      "text/plain": [
       "\n",
       "\tWelch Two Sample t-test\n",
       "\n",
       "data:  data_test$conversion[data_test$test == 1] and data_test$conversion[data_test$test == 0]\n",
       "t = -7.3539, df = 385260, p-value = 1.929e-13\n",
       "alternative hypothesis: true difference in means is not equal to 0\n",
       "95 percent confidence interval:\n",
       " -0.006181421 -0.003579837\n",
       "sample estimates:\n",
       " mean of x  mean of y \n",
       "0.04341116 0.04829179 \n"
      ]
     },
     "metadata": {},
     "output_type": "display_data"
    }
   ],
   "source": [
    "data_test = subset(data, country != \"Spain\") #nothing changed in Spain, so no point in keeping those users\n",
    "t.test(data_test$conversion[data_test$test == 1], data_test$conversion[data_test$test == 0])"
   ]
  },
  {
   "cell_type": "markdown",
   "metadata": {},
   "source": [
    "https://onlinecourses.science.psu.edu/stat414/node/271"
   ]
  },
  {
   "cell_type": "markdown",
   "metadata": {},
   "source": [
    "Not in the test are converting at 4.8% while users in the test just at 4.3%. That’s a 10% drop,\n",
    "which would be dramatic if it were true. The most likely reason for weird A/B test results are:\n",
    "\n",
    "#### We didn’t collect enough data.\n",
    "\n",
    "#### Some bias has been introduced in the experiment so that test/control people are not really random.\n",
    "\n",
    "In data science, whenever results appear too bad or too good to be true, they are not true.\n",
    "Firstly, let’s plot day by day, to see if these weird results have been constantly happening or they just\n",
    "started happening all of a sudden."
   ]
  },
  {
   "cell_type": "markdown",
   "metadata": {},
   "source": [
    "### Notes : Test vs. Control\n",
    "\n",
    "\n",
    "A test group is one that receives an experimental treatment. This might include a survey incentive to promote response, a discount coupon to drive purchase behavior, or a retail store that receives additional training for its employees. In short these groups of customers, survey panelists, stores or markets are the focus of our manipulation of the independent variables.\n",
    "\n",
    "What about the other guys?\n",
    "\n",
    "Those groups that do not receive a treatment form the control. We use a control group because it allows us to make definitive statements about the impact of our manipulation. Imagine we are testing a direct mail promotion’s ability to impact sales or the addition of a new online customer chat feature’s ability to impact customer satisfaction. In either of these cases it is possible to see changes in the dependent variable (sales or customer satisfaction) which cannot be distinguished from our manipulation.\n",
    "\n",
    "Use of a control group allows for isolating the percentage of customers who would have purchased regardless of the promotion. We expect the promotion to increase the percentage of customers who purchased and possibly impact their average spend. For the experiment to be deemed a success we must be able to compare it to the behavior of a group that did not receive the treatment."
   ]
  },
  {
   "cell_type": "code",
   "execution_count": 24,
   "metadata": {
    "collapsed": false,
    "scrolled": true
   },
   "outputs": [
    {
     "data": {
      "image/png": "[encoded data removed]",
      "text/plain": [
       "plot without title"
      ]
     },
     "metadata": {
      "image/svg+xml": {
       "isolated": true
      }
     },
     "output_type": "display_data"
    }
   ],
   "source": [
    "data_test_by_day = data_test %>%group_by(date) %>%summarize(test_vs_control = mean(conversion[test==1])/mean(conversion[test==0]))\n",
    "\n",
    "\n",
    "qplot(date, test_vs_control, data= data_test_by_day, geom = \"line\")"
   ]
  },
  {
   "cell_type": "markdown",
   "metadata": {},
   "source": [
    "From the plot, we notice a couple of things:\n",
    "\n",
    "1. Test has constantly been worse than control and there is relatively little variance across days. That\n",
    "probably means that we do have enough data, but there was some bias in the experiment set up.\n",
    "\n",
    "2. On a side note, we just ran it for 5 days. We should always run the test for at least 1 full week to\n",
    "capture weekly patterns, 2 weeks would be much better.\n",
    "Time to find out the bias! Likely, there is for some reason some segment of users more likely to end up in\n",
    "test or in control, this segment had a significantly above/below conversion rate and this affected the overall\n",
    "results.\n",
    "    \n",
    "In an ideal world, the distribution of people in test and control for each segment should be the same.There\n",
    "are many ways to check this. \n",
    "    \n",
    "One way is to build a decision tree where the variables are the user dimensions and the outcome variable is whether the user is in test or control. If the tree splits, it means that for given values of that variable you are more likely to end up in test or control. \n",
    "    \n",
    "But this should be impossible! Therefore, if the randomization worked, the tree should not split at all (or at least not be able to separate the two classes well).\n",
    "Let’s check this:"
   ]
  },
  {
   "cell_type": "markdown",
   "metadata": {},
   "source": [
    "https://rpubs.com/minma/cart_with_rpart"
   ]
  },
  {
   "cell_type": "code",
   "execution_count": 42,
   "metadata": {
    "collapsed": false
   },
   "outputs": [
    {
     "data": {
      "text/plain": [
       "n= 401085 \n",
       "\n",
       "node), split, n, deviance, yval\n",
       "      * denotes terminal node\n",
       "\n",
       "1) root 401085 99692.820 0.5379757  \n",
       "  2) country=Bolivia,Chile,Colombia,Costa Rica,Ecuador,El Salvador,Guatemala,Honduras,Mexico,Nicaragua,Panama,Paraguay,Peru,Venezuela 350218 87553.970 0.4987693 *\n",
       "  3) country=Argentina,Uruguay 50867  7894.097 0.8079108 *"
      ]
     },
     "metadata": {},
     "output_type": "display_data"
    }
   ],
   "source": [
    "tree = rpart(test ~ .,data_test[,-8],control = rpart.control(minbucket = nrow(data_test)/100, maxdepth =2))\n",
    "             \n",
    "             # we only look for segments representing at least 1% of the populations.\n",
    "\n",
    "tree # here we are not too interested in predictive power we are mainly using the tree as a descriptive stat tool."
   ]
  },
  {
   "cell_type": "markdown",
   "metadata": {},
   "source": [
    "Looks very interesting. The randomization is perfect for the countries on one side of the split\n",
    "(country=Bolivia, Chile, Colombia, Costa Rica, Ecuador, EL Salvador, Guatemala, Honduras, Mexico,\n",
    "Nicaragua, Panama, Paraguay, Peru, Venezuela). Indeed, in that leaf the test/control ratio is 0.498!\n",
    "However, Argentina and Uruguay together have 80% test and 20% control! So let’s check the test results\n",
    "after controlling for country. That is, we check for each country how the test is doing:"
   ]
  },
  {
   "cell_type": "code",
   "execution_count": 41,
   "metadata": {
    "collapsed": false
   },
   "outputs": [
    {
     "data": {
      "text/html": [
       "<table>\n",
       "<thead><tr><th></th><th scope=col>country</th><th scope=col>p_value</th><th scope=col>conversion_test</th><th scope=col>conversion_control</th></tr></thead>\n",
       "<tbody>\n",
       "\t<tr><th scope=row>1</th><td>Mexico            </td><td>0.165543722110397 </td><td>0.0511863088292493</td><td>0.0494946191343893</td></tr>\n",
       "\t<tr><th scope=row>2</th><td>El Salvador       </td><td>0.248126674326668 </td><td>0.0479468895992132</td><td>0.053554040895813 </td></tr>\n",
       "\t<tr><th scope=row>3</th><td>Chile             </td><td>0.302847643084447 </td><td>0.0512950222581951</td><td>0.0481071754795494</td></tr>\n",
       "\t<tr><th scope=row>4</th><td>Argentina         </td><td>0.335146546874686 </td><td>0.0137250180592343</td><td>0.0150705429670799</td></tr>\n",
       "\t<tr><th scope=row>5</th><td>Colombia          </td><td>0.423719074131412 </td><td>0.0505709624796085</td><td>0.0520894861193148</td></tr>\n",
       "\t<tr><th scope=row>6</th><td>Honduras          </td><td>0.471462856525758 </td><td>0.0475398145947231</td><td>0.0509057555606512</td></tr>\n",
       "\t<tr><th scope=row>7</th><td>Guatemala         </td><td>0.572107208191207 </td><td>0.0486472077835532</td><td>0.0506428758855943</td></tr>\n",
       "\t<tr><th scope=row>8</th><td>Venezuela         </td><td>0.573701523438725 </td><td>0.0489783087079535</td><td>0.0503436745309307</td></tr>\n",
       "\t<tr><th scope=row>9</th><td>Costa Rica        </td><td>0.687876353707399 </td><td>0.0547376368440921</td><td>0.0522556390977444</td></tr>\n",
       "\t<tr><th scope=row>10</th><td>Panama            </td><td>0.705326837272589 </td><td>0.0493702770780856</td><td>0.046795523906409 </td></tr>\n",
       "\t<tr><th scope=row>11</th><td>Bolivia           </td><td>0.718885246845107 </td><td>0.0479009687836383</td><td>0.0493693693693694</td></tr>\n",
       "\t<tr><th scope=row>12</th><td>Peru              </td><td>0.771952988515355 </td><td>0.0506042745728404</td><td>0.0499140435117671</td></tr>\n",
       "\t<tr><th scope=row>13</th><td>Nicaragua         </td><td>0.780400385890479 </td><td>0.0541767554479419</td><td>0.0526469727990641</td></tr>\n",
       "\t<tr><th scope=row>14</th><td>Uruguay           </td><td>0.879763973651422 </td><td>0.0129066953482119</td><td>0.0120481927710843</td></tr>\n",
       "\t<tr><th scope=row>15</th><td>Paraguay          </td><td>0.883696503496236 </td><td>0.0492291046794698</td><td>0.0484931506849315</td></tr>\n",
       "\t<tr><th scope=row>16</th><td>Ecuador           </td><td>0.961511690600662 </td><td>0.0489884209186919</td><td>0.0491538078646093</td></tr>\n",
       "</tbody>\n",
       "</table>\n"
      ],
      "text/latex": [
       "\\begin{tabular}{r|llll}\n",
       "  & country & p\\_value & conversion\\_test & conversion\\_control\\\\\n",
       "\\hline\n",
       "\t1 & Mexico             & 0.165543722110397  & 0.0511863088292493 & 0.0494946191343893\\\\\n",
       "\t2 & El Salvador        & 0.248126674326668  & 0.0479468895992132 & 0.053554040895813 \\\\\n",
       "\t3 & Chile              & 0.302847643084447  & 0.0512950222581951 & 0.0481071754795494\\\\\n",
       "\t4 & Argentina          & 0.335146546874686  & 0.0137250180592343 & 0.0150705429670799\\\\\n",
       "\t5 & Colombia           & 0.423719074131412  & 0.0505709624796085 & 0.0520894861193148\\\\\n",
       "\t6 & Honduras           & 0.471462856525758  & 0.0475398145947231 & 0.0509057555606512\\\\\n",
       "\t7 & Guatemala          & 0.572107208191207  & 0.0486472077835532 & 0.0506428758855943\\\\\n",
       "\t8 & Venezuela          & 0.573701523438725  & 0.0489783087079535 & 0.0503436745309307\\\\\n",
       "\t9 & Costa Rica         & 0.687876353707399  & 0.0547376368440921 & 0.0522556390977444\\\\\n",
       "\t10 & Panama             & 0.705326837272589  & 0.0493702770780856 & 0.046795523906409 \\\\\n",
       "\t11 & Bolivia            & 0.718885246845107  & 0.0479009687836383 & 0.0493693693693694\\\\\n",
       "\t12 & Peru               & 0.771952988515355  & 0.0506042745728404 & 0.0499140435117671\\\\\n",
       "\t13 & Nicaragua          & 0.780400385890479  & 0.0541767554479419 & 0.0526469727990641\\\\\n",
       "\t14 & Uruguay            & 0.879763973651422  & 0.0129066953482119 & 0.0120481927710843\\\\\n",
       "\t15 & Paraguay           & 0.883696503496236  & 0.0492291046794698 & 0.0484931506849315\\\\\n",
       "\t16 & Ecuador            & 0.961511690600662  & 0.0489884209186919 & 0.0491538078646093\\\\\n",
       "\\end{tabular}\n"
      ],
      "text/plain": [
       "       country   p_value conversion_test conversion_control\n",
       "1       Mexico 0.1655437      0.05118631         0.04949462\n",
       "2  El Salvador 0.2481267      0.04794689         0.05355404\n",
       "3        Chile 0.3028476      0.05129502         0.04810718\n",
       "4    Argentina 0.3351465      0.01372502         0.01507054\n",
       "5     Colombia 0.4237191      0.05057096         0.05208949\n",
       "6     Honduras 0.4714629      0.04753981         0.05090576\n",
       "7    Guatemala 0.5721072      0.04864721         0.05064288\n",
       "8    Venezuela 0.5737015      0.04897831         0.05034367\n",
       "9   Costa Rica 0.6878764      0.05473764         0.05225564\n",
       "10      Panama 0.7053268      0.04937028         0.04679552\n",
       "11     Bolivia 0.7188852      0.04790097         0.04936937\n",
       "12        Peru 0.7719530      0.05060427         0.04991404\n",
       "13   Nicaragua 0.7804004      0.05417676         0.05264697\n",
       "14     Uruguay 0.8797640      0.01290670         0.01204819\n",
       "15    Paraguay 0.8836965      0.04922910         0.04849315\n",
       "16     Ecuador 0.9615117      0.04898842         0.04915381"
      ]
     },
     "metadata": {},
     "output_type": "display_data"
    },
    {
     "data": {
      "text/html": [
       "83"
      ],
      "text/latex": [
       "83"
      ],
      "text/markdown": [
       "83"
      ],
      "text/plain": [
       "[1] 83"
      ]
     },
     "metadata": {},
     "output_type": "display_data"
    }
   ],
   "source": [
    "data_test_country = data_test %>%group_by(country) %>%summarize( p_value = t.test( conversion[test==1],conversion[test==0])$p.value,conversion_test = t.test( conversion[test==1],conversion[test==0])$estimate[1],conversion_control = t.test( conversion[test==1],conversion[test==0])$estimate[2]) %>%arrange (p_value)\n",
    "\n",
    "data_test_country\n",
    "83"
   ]
  },
  {
   "cell_type": "markdown",
   "metadata": {},
   "source": [
    "### Conclusion : After we control for country, the test clearly appears non significant. Not a great success given that the goal was to improve conversion rate, but at least we know that a localized translation didn’t make things worse!"
   ]
  },
  {
   "cell_type": "code",
   "execution_count": null,
   "metadata": {
    "collapsed": true
   },
   "outputs": [],
   "source": []
  }
 ],
 "metadata": {
  "kernelspec": {
   "display_name": "R",
   "language": "R",
   "name": "ir"
  },
  "language_info": {
   "codemirror_mode": "r",
   "file_extension": ".r",
   "mimetype": "text/x-r-source",
   "name": "R",
   "pygments_lexer": "r",
   "version": "3.3.1"
  }
 },
 "nbformat": 4,
 "nbformat_minor": 0
}
